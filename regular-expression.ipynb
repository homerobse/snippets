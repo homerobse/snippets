{
 "cells": [
  {
   "cell_type": "markdown",
   "metadata": {},
   "source": [
    "https://docs.python.org/3/library/re.html\n",
    "The sequence\n",
    "\n",
    "```python\n",
    "prog = re.compile(pattern)\n",
    "result = prog.match(string)\n",
    "```\n",
    "is equivalent to\n",
    "\n",
    "```\n",
    "result = re.match(pattern, string)\n",
    "```"
   ]
  },
  {
   "cell_type": "code",
   "execution_count": 1,
   "metadata": {},
   "outputs": [
    {
     "name": "stdout",
     "output_type": "stream",
     "text": [
      ".txt\n",
      "group1: a group2: .txt\n",
      ".txt\n"
     ]
    }
   ],
   "source": [
    "import re\n",
    "example = 'asdfas.txt'\n",
    "\n",
    "print(re.search('(\\.txt)', example).group(1))\n",
    "\n",
    "print('group1:', re.match('(a).*(\\.txt)', example).group(1), \n",
    "      'group2:', re.match('(a).*(\\.txt)', example).group(2))\n",
    "\n",
    "exp = re.compile('.*(\\.txt)')\n",
    "print(exp.match(example).group(1))"
   ]
  },
  {
   "cell_type": "markdown",
   "metadata": {},
   "source": [
    "https://stackoverflow.com/questions/6576962/python-regular-expressions-return-true-false\n",
    "\n",
    "Match objects are always true, and None is returned if there is no match. Just test for trueness.\n",
    "\n",
    "`if re.match(...):`"
   ]
  },
  {
   "cell_type": "code",
   "execution_count": 2,
   "metadata": {},
   "outputs": [
    {
     "name": "stdout",
     "output_type": "stream",
     "text": [
      "Example: asdfas.txt\n",
      "It is a .txt file!\n",
      "group 0 is the original: asdfas.txt\n",
      "group 1: .txt\n",
      "IndexError: no such group -> there's only one group\n",
      "group 0 is the original: asdfas.txt\n",
      "IndexError: no such group -> there are no groups apart from the 0\n"
     ]
    }
   ],
   "source": [
    "print('Example:', example)\n",
    "# print(re.search('(\\.txt)', example).group(1))\n",
    "if re.match('.*\\.txt',example):\n",
    "    print('It is a .txt file!')\n",
    "    \n",
    "print('group 0 is the original:', re.match('.*(\\.txt)', example).group(0))\n",
    "print('group 1:', re.match('.*(\\.txt)', example).group(1))\n",
    "\n",
    "try:\n",
    "    print(re.match('.*(\\.txt)', example).group(2))\n",
    "except IndexError as e:\n",
    "    print('IndexError for group 2:', e, '-> there\\'s only one group')\n",
    "\n",
    "print('group 0 is the original:', re.match('.*\\.txt', example).group(0))\n",
    "\n",
    "try:\n",
    "    print(re.match('.*\\.txt', example).group(1))\n",
    "except IndexError as e:\n",
    "    print('IndexError:', e, '-> there are no groups apart from the 0')"
   ]
  }
 ],
 "metadata": {
  "celltoolbar": "Raw Cell Format",
  "kernelspec": {
   "display_name": "Python 3",
   "language": "python",
   "name": "python3"
  },
  "language_info": {
   "codemirror_mode": {
    "name": "ipython",
    "version": 3
   },
   "file_extension": ".py",
   "mimetype": "text/x-python",
   "name": "python",
   "nbconvert_exporter": "python",
   "pygments_lexer": "ipython3",
   "version": "3.6.8"
  }
 },
 "nbformat": 4,
 "nbformat_minor": 2
}
