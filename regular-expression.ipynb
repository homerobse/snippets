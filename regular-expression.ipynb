{
 "cells": [
  {
   "cell_type": "markdown",
   "metadata": {},
   "source": [
    "https://docs.python.org/3/library/re.html\n",
    "The sequence\n",
    "\n",
    "```python\n",
    "prog = re.compile(pattern)\n",
    "result = prog.match(string)\n",
    "```\n",
    "is equivalent to\n",
    "\n",
    "```\n",
    "result = re.match(pattern, string)\n",
    "```"
   ]
  },
  {
   "cell_type": "code",
   "execution_count": 1,
   "metadata": {},
   "outputs": [
    {
     "name": "stdout",
     "output_type": "stream",
     "text": [
      ".txt\n",
      "a\n",
      ".txt\n",
      ".txt\n"
     ]
    }
   ],
   "source": [
    "import re\n",
    "example = 'asdfas.txt'\n",
    "\n",
    "print(re.search('(\\.txt)', 'asdfas.txt').group(1))\n",
    "\n",
    "print(re.match('(a).*(\\.txt)', 'asdfas.txt').group(1))\n",
    "print(re.match('(a).*(\\.txt)', 'asdfas.txt').group(2))\n",
    "\n",
    "exp = re.compile('.*(\\.txt)')\n",
    "print(exp.match(example).group(1))"
   ]
  },
  {
   "cell_type": "markdown",
   "metadata": {},
   "source": [
    "https://stackoverflow.com/questions/6576962/python-regular-expressions-return-true-false\n",
    "\n",
    "Match objects are always true, and None is returned if there is no match. Just test for trueness.\n",
    "\n",
    "`if re.match(...):`"
   ]
  }
 ],
 "metadata": {
  "celltoolbar": "Raw Cell Format",
  "kernelspec": {
   "display_name": "Python 3",
   "language": "python",
   "name": "python3"
  },
  "language_info": {
   "codemirror_mode": {
    "name": "ipython",
    "version": 3
   },
   "file_extension": ".py",
   "mimetype": "text/x-python",
   "name": "python",
   "nbconvert_exporter": "python",
   "pygments_lexer": "ipython3",
   "version": "3.6.6"
  }
 },
 "nbformat": 4,
 "nbformat_minor": 2
}
