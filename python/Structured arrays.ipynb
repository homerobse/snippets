{
 "cells": [
  {
   "cell_type": "markdown",
   "metadata": {},
   "source": [
    "# Structured arrays\n",
    "https://docs.scipy.org/doc/numpy-1.13.0/user/basics.rec.html"
   ]
  },
  {
   "cell_type": "code",
   "execution_count": 3,
   "metadata": {},
   "outputs": [],
   "source": [
    "import numpy as np\n",
    "\n",
    "x =np.array([1,2,3], dtype=[('first', 'O'), ('second', 'O'), ('third', 'O')])\n",
    "y =np.array([2,6], dtype=[('first', 'O'), ('second', 'O'), ('third', 'O')])\n",
    "z =np.array([(1,2,3),(5,1,7)], dtype=[('first', 'O'), ('second', 'O'), ('third', 'O')])"
   ]
  },
  {
   "cell_type": "code",
   "execution_count": 4,
   "metadata": {},
   "outputs": [
    {
     "name": "stdout",
     "output_type": "stream",
     "text": [
      "[(1, 1, 1) (2, 2, 2) (3, 3, 3)]\n",
      "[('first', 'O'), ('second', 'O'), ('third', 'O')]\n",
      "[1 2 3]\n",
      "object\n"
     ]
    },
    {
     "data": {
      "text/plain": [
       "numpy.ndarray"
      ]
     },
     "execution_count": 4,
     "metadata": {},
     "output_type": "execute_result"
    }
   ],
   "source": [
    "print(x)\n",
    "print(x.dtype)\n",
    "print(x['first'])\n",
    "print(x['first'].dtype)\n",
    "type(x)"
   ]
  },
  {
   "cell_type": "code",
   "execution_count": 5,
   "metadata": {},
   "outputs": [
    {
     "name": "stdout",
     "output_type": "stream",
     "text": [
      "[(2, 2, 2) (6, 6, 6)]\n",
      "[2 6]\n"
     ]
    }
   ],
   "source": [
    "print(y)\n",
    "print(y['first'])"
   ]
  },
  {
   "cell_type": "code",
   "execution_count": 6,
   "metadata": {},
   "outputs": [
    {
     "name": "stdout",
     "output_type": "stream",
     "text": [
      "[(1, 2, 3) (5, 1, 7)]\n",
      "[('first', 'O'), ('second', 'O'), ('third', 'O')]\n",
      "len 2\n",
      "first [1 5]\n",
      "second [2 1]\n",
      "third [3 7]\n"
     ]
    }
   ],
   "source": [
    "print(z)\n",
    "print(z.dtype)\n",
    "print('len', len(z))\n",
    "print('first', z['first'])\n",
    "print('second', z['second'])\n",
    "print('third', z['third'])"
   ]
  }
 ],
 "metadata": {
  "kernelspec": {
   "display_name": "Python 3",
   "language": "python",
   "name": "python3"
  },
  "language_info": {
   "codemirror_mode": {
    "name": "ipython",
    "version": 3
   },
   "file_extension": ".py",
   "mimetype": "text/x-python",
   "name": "python",
   "nbconvert_exporter": "python",
   "pygments_lexer": "ipython3",
   "version": "3.7.1"
  }
 },
 "nbformat": 4,
 "nbformat_minor": 2
}
