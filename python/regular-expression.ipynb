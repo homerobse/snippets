{
 "cells": [
  {
   "cell_type": "markdown",
   "metadata": {},
   "source": [
    "https://docs.python.org/3/library/re.html\n",
    "The sequence\n",
    "\n",
    "```python\n",
    "prog = re.compile(pattern)\n",
    "result = prog.match(string)\n",
    "```\n",
    "is equivalent to\n",
    "\n",
    "```\n",
    "result = re.match(pattern, string)\n",
    "```"
   ]
  },
  {
   "cell_type": "markdown",
   "metadata": {},
   "source": [
    "### Search vs. match:\n",
    "https://docs.python.org/3/library/re.html#search-vs-match\n",
    "\n",
    "\n",
    "~~~\n",
    ">>> re.match(\"c\", \"abcdef\")    # No match\n",
    ">>> re.search(\"c\", \"abcdef\")   # Match\n",
    "<re.Match object; span=(2, 3), match='c'>\n",
    "~~~"
   ]
  },
  {
   "cell_type": "code",
   "execution_count": 49,
   "metadata": {},
   "outputs": [
    {
     "name": "stdout",
     "output_type": "stream",
     "text": [
      "Using search function:  .txt\n",
      "group1: a group2: .txt\n",
      ".txt\n"
     ]
    }
   ],
   "source": [
    "import re\n",
    "example = 'asdfas.txt'\n",
    "\n",
    "print('Using search function: ', re.search('(\\.txt)', example).group(1))\n",
    "\n",
    "print('group1:', re.match('(a).*(\\.txt)', example).group(1), \n",
    "      'group2:', re.match('(a).*(\\.txt)', example).group(2))\n",
    "\n",
    "exp = re.compile('.*(\\.txt)')\n",
    "print(exp.match(example).group(1))"
   ]
  },
  {
   "cell_type": "markdown",
   "metadata": {},
   "source": [
    "https://stackoverflow.com/questions/6576962/python-regular-expressions-return-true-false\n",
    "\n",
    "Match objects are always true, and None is returned if there is no match. Just test for trueness.\n",
    "\n",
    "`if re.match(...):`"
   ]
  },
  {
   "cell_type": "code",
   "execution_count": 12,
   "metadata": {},
   "outputs": [
    {
     "name": "stdout",
     "output_type": "stream",
     "text": [
      "Example: asdfas.txt\n",
      "It is a .txt file named  asdfas\n",
      "group 0 is the original: asdfas.txt\n",
      "group 1: .txt\n",
      "IndexError for group 2: no such group -> there's only one group\n",
      "group 0 is the original: asdfas.txt\n",
      "IndexError for group 1: no such group -> there are no groups apart from the 0, because there was nothing between parenthesis in the regex\n"
     ]
    }
   ],
   "source": [
    "print('Example:', example)\n",
    "# print(re.search('(\\.txt)', example).group(1))\n",
    "\n",
    "regex1match = re.match('(.*)\\.txt',example)\n",
    "\n",
    "if regex1match:\n",
    "    print('It is a .txt file named ', regex1match.group(1))\n",
    "\n",
    "regex2match = re.match('.*(\\.txt)',example)\n",
    "\n",
    "print('group 0 is the original:', regex2match.group(0))\n",
    "print('group 1:', regex2match.group(1))\n",
    "\n",
    "try:\n",
    "    print(regex2match.group(2))\n",
    "except IndexError as e:\n",
    "    print('IndexError for group 2:', e, '-> there\\'s only one group')\n",
    "\n",
    "regex3match = re.match('.*\\.txt',example)\n",
    "    \n",
    "print('group 0 is the original:', regex3match.group(0))\n",
    "\n",
    "try:\n",
    "    print(regex3match.group(1))\n",
    "except IndexError as e:\n",
    "    print('IndexError for group 1:', e, '-> there are no groups apart from the 0, '\\\n",
    "            'because there was nothing between parenthesis in the regex')"
   ]
  },
  {
   "cell_type": "markdown",
   "metadata": {},
   "source": [
    "**findall function is very usefull:**"
   ]
  },
  {
   "cell_type": "code",
   "execution_count": 223,
   "metadata": {},
   "outputs": [
    {
     "name": "stdout",
     "output_type": "stream",
     "text": [
      "^A10:25^L11:45\n",
      "^A12:50^E17:30\n",
      "^S18:45^L21:40\n",
      "\n",
      "arrivals ['^A10:25', '^A12:50']\n",
      "leavings ['^L11:45', '^L21:40']\n",
      "start ['^S18:45']\n",
      "end ['^E17:30']\n"
     ]
    }
   ],
   "source": [
    "text = \"\"\"^A10:25^L11:45\n",
    "^A12:50^E17:30\n",
    "^S18:45^L21:40\n",
    "\"\"\"\n",
    "print(text)\n",
    "arrivals = re.findall('(\\^A\\d?\\d:\\d\\d)', text)\n",
    "leavings = re.findall('(\\^L\\d?\\d:\\d\\d)', text)\n",
    "start = re.findall('(\\^S\\d?\\d:\\d\\d)', text)\n",
    "end = re.findall('(\\^E\\d?\\d:\\d\\d)', text)\n",
    "print('arrivals', arrivals)\n",
    "print('leavings', leavings)\n",
    "print('start', start)\n",
    "print('end', end)\n"
   ]
  }
 ],
 "metadata": {
  "celltoolbar": "Raw Cell Format",
  "kernelspec": {
   "display_name": "Python 3",
   "language": "python",
   "name": "python3"
  },
  "language_info": {
   "codemirror_mode": {
    "name": "ipython",
    "version": 3
   },
   "file_extension": ".py",
   "mimetype": "text/x-python",
   "name": "python",
   "nbconvert_exporter": "python",
   "pygments_lexer": "ipython3",
   "version": "3.7.3"
  }
 },
 "nbformat": 4,
 "nbformat_minor": 2
}
